{
  "nbformat": 4,
  "nbformat_minor": 0,
  "metadata": {
    "colab": {
      "provenance": [],
      "gpuType": "T4",
      "include_colab_link": true
    },
    "kernelspec": {
      "name": "python3",
      "display_name": "Python 3"
    },
    "language_info": {
      "name": "python"
    },
    "accelerator": "GPU"
  },
  "cells": [
    {
      "cell_type": "markdown",
      "metadata": {
        "id": "view-in-github",
        "colab_type": "text"
      },
      "source": [
        "<a href=\"https://colab.research.google.com/github/ItsNotDEMON/hackathon_innov.github.io/blob/main/FaceFusion_Colab.ipynb\" target=\"_parent\"><img src=\"https://colab.research.google.com/assets/colab-badge.svg\" alt=\"Open In Colab\"/></a>"
      ]
    },
    {
      "cell_type": "code",
      "execution_count": 4,
      "metadata": {
        "id": "qMbQ-URbzB0g",
        "outputId": "6828b78f-1ae3-480a-c47a-ffe3b7bfe85a",
        "colab": {
          "base_uri": "https://localhost:8080/"
        }
      },
      "outputs": [
        {
          "output_type": "stream",
          "name": "stdout",
          "text": [
            "Neuron Output: 1\n"
          ]
        }
      ],
      "source": [
        "def MCP(inputs,weights,threshold):\n",
        "  weighted_sum = sum(i * w for i, w in zip(inputs,weights))\n",
        "  return 1 if weighted_sum >= threshold else 0\n",
        "\n",
        "inputs = [1,0,1]\n",
        "weights = [2,1,3]\n",
        "threshold = 4\n",
        "output = MCP(inputs,weights,threshold)\n",
        "print(\"Neuron Output:\",output)"
      ]
    },
    {
      "cell_type": "code",
      "source": [],
      "metadata": {
        "id": "I6psOK4dAJrJ"
      },
      "execution_count": null,
      "outputs": []
    },
    {
      "cell_type": "code",
      "source": [
        "!python run.py"
      ],
      "metadata": {
        "id": "nBJZm44Tzkxr"
      },
      "execution_count": null,
      "outputs": []
    }
  ]
}